{
 "cells": [
  {
   "cell_type": "code",
   "execution_count": null,
   "metadata": {},
   "outputs": [],
   "source": [
    "'''\n",
    "epoch = 1 forward and backward pass of all training samples\n",
    "batch_size = number of training samples in one forward and backward pass\n",
    "number of iterations = number of passes, each pass using(batch_size) number of samples\n",
    "\n",
    "e.g. 100 samples batch size 20 --> 100/20 = 5 iterations per epoch\n",
    "'''"
   ]
  },
  {
   "cell_type": "code",
   "execution_count": 2,
   "metadata": {},
   "outputs": [],
   "source": [
    "import torch\n",
    "import torchvision\n",
    "from torch.utils.data import DataLoader, Dataset\n",
    "import numpy as np\n",
    "import math"
   ]
  },
  {
   "cell_type": "code",
   "execution_count": 4,
   "metadata": {},
   "outputs": [
    {
     "name": "stdout",
     "output_type": "stream",
     "text": [
      "tensor([1.4230e+01, 1.7100e+00, 2.4300e+00, 1.5600e+01, 1.2700e+02, 2.8000e+00,\n",
      "        3.0600e+00, 2.8000e-01, 2.2900e+00, 5.6400e+00, 1.0400e+00, 3.9200e+00,\n",
      "        1.0650e+03]) tensor([1.])\n"
     ]
    }
   ],
   "source": [
    "class WineDataset(Dataset):\n",
    "\n",
    "    def __init__(self):\n",
    "        #data loading\n",
    "        xy = np.loadtxt('./data/wine/wine.csv',delimiter=',',dtype=np.float32,skiprows=1)\n",
    "        self.x = torch.from_numpy(xy[:,1:])\n",
    "        self.y = torch.from_numpy(xy[:,[0]]) #n_samples = 1\n",
    "        self.n_samples = xy.shape[0]\n",
    "\n",
    "    def __getitem__(self,index):\n",
    "        #dataset[0]\n",
    "        return self.x[index],self.y[index]\n",
    "\n",
    "    def __len__(self):\n",
    "        return self.n_samples\n",
    "\n",
    "dataset = WineDataset()\n",
    "first_data = dataset[0]\n",
    "features, labels = first_data\n",
    "\n",
    "print(features,labels)"
   ]
  },
  {
   "cell_type": "code",
   "execution_count": 6,
   "metadata": {},
   "outputs": [
    {
     "name": "stdout",
     "output_type": "stream",
     "text": [
      "tensor([[1.1820e+01, 1.4700e+00, 1.9900e+00, 2.0800e+01, 8.6000e+01, 1.9800e+00,\n",
      "         1.6000e+00, 3.0000e-01, 1.5300e+00, 1.9500e+00, 9.5000e-01, 3.3300e+00,\n",
      "         4.9500e+02],\n",
      "        [1.1030e+01, 1.5100e+00, 2.2000e+00, 2.1500e+01, 8.5000e+01, 2.4600e+00,\n",
      "         2.1700e+00, 5.2000e-01, 2.0100e+00, 1.9000e+00, 1.7100e+00, 2.8700e+00,\n",
      "         4.0700e+02],\n",
      "        [1.3490e+01, 1.6600e+00, 2.2400e+00, 2.4000e+01, 8.7000e+01, 1.8800e+00,\n",
      "         1.8400e+00, 2.7000e-01, 1.0300e+00, 3.7400e+00, 9.8000e-01, 2.7800e+00,\n",
      "         4.7200e+02],\n",
      "        [1.3690e+01, 3.2600e+00, 2.5400e+00, 2.0000e+01, 1.0700e+02, 1.8300e+00,\n",
      "         5.6000e-01, 5.0000e-01, 8.0000e-01, 5.8800e+00, 9.6000e-01, 1.8200e+00,\n",
      "         6.8000e+02]]) tensor([[2.],\n",
      "        [2.],\n",
      "        [2.],\n",
      "        [3.]])\n"
     ]
    }
   ],
   "source": [
    "#using DataLoader\n",
    "dataset  = WineDataset()\n",
    "dataloader = DataLoader(dataset=dataset, batch_size=4, shuffle=4, num_workers=0)\n",
    "\n",
    "dataiter = iter(dataloader)\n",
    "data = dataiter.next()\n",
    "features, labels = data \n",
    "print(features,labels)"
   ]
  },
  {
   "cell_type": "code",
   "execution_count": 7,
   "metadata": {},
   "outputs": [
    {
     "data": {
      "text/plain": [
       "(178, 45)"
      ]
     },
     "execution_count": 7,
     "metadata": {},
     "output_type": "execute_result"
    }
   ],
   "source": [
    "#iterate over the whole dataset\n",
    "num_epochs = 2\n",
    "total_samples = len(dataset)\n",
    "n_iterations = math.ceil(total_samples/4)\n",
    "\n",
    "total_samples,n_iterations"
   ]
  },
  {
   "cell_type": "code",
   "execution_count": 8,
   "metadata": {},
   "outputs": [
    {
     "name": "stdout",
     "output_type": "stream",
     "text": [
      "1/2, step 5/45, inputs torch.Size([4, 13])\n",
      "1/2, step 10/45, inputs torch.Size([4, 13])\n",
      "1/2, step 15/45, inputs torch.Size([4, 13])\n",
      "1/2, step 20/45, inputs torch.Size([4, 13])\n",
      "1/2, step 25/45, inputs torch.Size([4, 13])\n",
      "1/2, step 30/45, inputs torch.Size([4, 13])\n",
      "1/2, step 35/45, inputs torch.Size([4, 13])\n",
      "1/2, step 40/45, inputs torch.Size([4, 13])\n",
      "1/2, step 45/45, inputs torch.Size([2, 13])\n",
      "2/2, step 5/45, inputs torch.Size([4, 13])\n",
      "2/2, step 10/45, inputs torch.Size([4, 13])\n",
      "2/2, step 15/45, inputs torch.Size([4, 13])\n",
      "2/2, step 20/45, inputs torch.Size([4, 13])\n",
      "2/2, step 25/45, inputs torch.Size([4, 13])\n",
      "2/2, step 30/45, inputs torch.Size([4, 13])\n",
      "2/2, step 35/45, inputs torch.Size([4, 13])\n",
      "2/2, step 40/45, inputs torch.Size([4, 13])\n",
      "2/2, step 45/45, inputs torch.Size([2, 13])\n"
     ]
    }
   ],
   "source": [
    "for epoch in range(num_epochs):\n",
    "    for i,(inputs,labels) in enumerate(dataloader):\n",
    "        #forward, backward, update\n",
    "        if (i+1) % 5 == 0:\n",
    "            print(f'{epoch+1}/{num_epochs}, step {i+1}/{n_iterations}, inputs {inputs.shape}')"
   ]
  }
 ],
 "metadata": {
  "interpreter": {
   "hash": "0f64c202fdc8031f9c0ea70d5eaf446c1532c884947e752d3784ee6a247777c2"
  },
  "kernelspec": {
   "display_name": "Python 3.9.9 ('tensorflow')",
   "language": "python",
   "name": "python3"
  },
  "language_info": {
   "codemirror_mode": {
    "name": "ipython",
    "version": 3
   },
   "file_extension": ".py",
   "mimetype": "text/x-python",
   "name": "python",
   "nbconvert_exporter": "python",
   "pygments_lexer": "ipython3",
   "version": "3.9.9"
  },
  "orig_nbformat": 4
 },
 "nbformat": 4,
 "nbformat_minor": 2
}
