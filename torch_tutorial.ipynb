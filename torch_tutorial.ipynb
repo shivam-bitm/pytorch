{
 "cells": [
  {
   "cell_type": "code",
   "execution_count": 1,
   "id": "6eb0a153-d2ad-430c-a1af-45c43bd27d08",
   "metadata": {},
   "outputs": [],
   "source": [
    "import torch\n",
    "import numpy as np"
   ]
  },
  {
   "cell_type": "markdown",
   "id": "2e45e8dd-c5e2-4102-bbca-10f692854f83",
   "metadata": {},
   "source": [
    "TENSOR BASICS"
   ]
  },
  {
   "cell_type": "code",
   "execution_count": 2,
   "id": "38ab34f2-0d22-4e7d-80e9-144d8726fa06",
   "metadata": {},
   "outputs": [
    {
     "data": {
      "text/plain": [
       "tensor([[[0., 0., 0.],\n",
       "         [0., 0., 0.]],\n",
       "\n",
       "        [[0., 0., 0.],\n",
       "         [0., 0., 0.]]])"
      ]
     },
     "execution_count": 2,
     "metadata": {},
     "output_type": "execute_result"
    }
   ],
   "source": [
    "#create empty tensor\n",
    "x = torch.empty(2,2,3)\n",
    "x"
   ]
  },
  {
   "cell_type": "code",
   "execution_count": 3,
   "id": "7455414b-48a7-4e4a-9074-b0866fb72c37",
   "metadata": {},
   "outputs": [
    {
     "data": {
      "text/plain": [
       "tensor([[0.4462, 0.1452],\n",
       "        [0.4127, 0.6306]])"
      ]
     },
     "execution_count": 3,
     "metadata": {},
     "output_type": "execute_result"
    }
   ],
   "source": [
    "#create tensor with random values\n",
    "x = torch.rand(2,2)\n",
    "x"
   ]
  },
  {
   "cell_type": "code",
   "execution_count": 4,
   "id": "ca86315b-16da-4f78-86d7-9637c4a15e9b",
   "metadata": {},
   "outputs": [
    {
     "data": {
      "text/plain": [
       "tensor([[0., 0., 0.],\n",
       "        [0., 0., 0.]])"
      ]
     },
     "execution_count": 4,
     "metadata": {},
     "output_type": "execute_result"
    }
   ],
   "source": [
    "#create tensor with zeros\n",
    "x = torch.zeros(2,3)\n",
    "x"
   ]
  },
  {
   "cell_type": "code",
   "execution_count": 5,
   "id": "95c5c34c-dd1b-4d52-a490-34ba4be0520c",
   "metadata": {},
   "outputs": [
    {
     "name": "stdout",
     "output_type": "stream",
     "text": [
      "torch.float32\n",
      "torch.float16\n"
     ]
    }
   ],
   "source": [
    "#change dtype\n",
    "print(x.dtype)\n",
    "x = torch.ones(2,2,dtype = torch.float16)\n",
    "print(x.dtype)"
   ]
  },
  {
   "cell_type": "code",
   "execution_count": 6,
   "id": "ae880c91-124e-42d4-b8f5-6db4efcad6f7",
   "metadata": {},
   "outputs": [
    {
     "data": {
      "text/plain": [
       "tensor([[1, 2],\n",
       "        [3, 4]], dtype=torch.int32)"
      ]
     },
     "execution_count": 6,
     "metadata": {},
     "output_type": "execute_result"
    }
   ],
   "source": [
    "#tensor from list\n",
    "x = torch.tensor([[1,2],[3,4]],dtype = torch.int32)\n",
    "x"
   ]
  },
  {
   "cell_type": "markdown",
   "id": "ea5277d6-e8d3-4ed0-9c3b-ed5e150e6f6f",
   "metadata": {},
   "source": [
    "BASIC OPERATIONS"
   ]
  },
  {
   "cell_type": "code",
   "execution_count": 7,
   "id": "f704ae18-a289-4e06-a043-46d8a4bb466c",
   "metadata": {},
   "outputs": [
    {
     "name": "stdout",
     "output_type": "stream",
     "text": [
      "tensor([[0.0632, 0.8962],\n",
      "        [0.4276, 0.7508]])\n",
      "tensor([[0.5067, 0.4281],\n",
      "        [0.0997, 0.8197]])\n"
     ]
    }
   ],
   "source": [
    "x = torch.rand(2,2)\n",
    "y = torch.rand(2,2)\n",
    "print(x)\n",
    "print(y)\n"
   ]
  },
  {
   "cell_type": "code",
   "execution_count": 8,
   "id": "16145368",
   "metadata": {},
   "outputs": [
    {
     "data": {
      "text/plain": [
       "tensor([[0.5699, 1.3243],\n",
       "        [0.5273, 1.5704]])"
      ]
     },
     "execution_count": 8,
     "metadata": {},
     "output_type": "execute_result"
    }
   ],
   "source": [
    "#addition\n",
    "z = x+y\n",
    "z"
   ]
  },
  {
   "cell_type": "code",
   "execution_count": 9,
   "id": "ae26e828",
   "metadata": {},
   "outputs": [
    {
     "data": {
      "text/plain": [
       "tensor([[0.5699, 1.3243],\n",
       "        [0.5273, 1.5704]])"
      ]
     },
     "execution_count": 9,
     "metadata": {},
     "output_type": "execute_result"
    }
   ],
   "source": [
    "#addition\n",
    "z = torch.add(x,y)\n",
    "z"
   ]
  },
  {
   "cell_type": "code",
   "execution_count": 10,
   "id": "f1f9fd8a",
   "metadata": {},
   "outputs": [
    {
     "data": {
      "text/plain": [
       "tensor([[0.5699, 1.3243],\n",
       "        [0.5273, 1.5704]])"
      ]
     },
     "execution_count": 10,
     "metadata": {},
     "output_type": "execute_result"
    }
   ],
   "source": [
    "#inplace addition\n",
    "y.add_(x)   #any operation with a trailing _ to it will perform an inplace operation \n",
    "y"
   ]
  },
  {
   "cell_type": "code",
   "execution_count": 11,
   "id": "a507e40a",
   "metadata": {},
   "outputs": [
    {
     "name": "stdout",
     "output_type": "stream",
     "text": [
      "tensor([[0.0632, 0.8962],\n",
      "        [0.4276, 0.7508]])\n",
      "tensor([[0.5699, 1.3243],\n",
      "        [0.5273, 1.5704]])\n"
     ]
    }
   ],
   "source": [
    "print(x)\n",
    "print(y)"
   ]
  },
  {
   "cell_type": "code",
   "execution_count": 12,
   "id": "68ec0c48",
   "metadata": {},
   "outputs": [
    {
     "data": {
      "text/plain": [
       "tensor([[0.0360, 1.1869],\n",
       "        [0.2255, 1.1790]])"
      ]
     },
     "execution_count": 12,
     "metadata": {},
     "output_type": "execute_result"
    }
   ],
   "source": [
    "#elementwise multiplication\n",
    "# z = x*y     #option 1\n",
    "z = torch.mul(x,y)    #option 2\n",
    "# y.mul_(x)      #option 3\n",
    "z"
   ]
  },
  {
   "cell_type": "code",
   "execution_count": 13,
   "id": "fd3796ae",
   "metadata": {},
   "outputs": [
    {
     "data": {
      "text/plain": [
       "tensor([[0.1109, 0.6768],\n",
       "        [0.8110, 0.4781]])"
      ]
     },
     "execution_count": 13,
     "metadata": {},
     "output_type": "execute_result"
    }
   ],
   "source": [
    "#elementwise division\n",
    "# z = x/y \n",
    "z = torch.div(x,y)\n",
    "# x.div_(y)\n",
    "z"
   ]
  },
  {
   "cell_type": "code",
   "execution_count": 14,
   "id": "eff0cc02",
   "metadata": {},
   "outputs": [
    {
     "name": "stdout",
     "output_type": "stream",
     "text": [
      "tensor([[0.8152, 0.5574, 0.2156],\n",
      "        [0.7669, 0.3854, 0.6828],\n",
      "        [0.0740, 0.4851, 0.4796],\n",
      "        [0.7932, 0.4709, 0.8729],\n",
      "        [0.5770, 0.8560, 0.0697]])\n",
      "tensor([0.8152, 0.7669, 0.0740, 0.7932, 0.5770])\n",
      "tensor([0.7669, 0.3854, 0.6828])\n"
     ]
    }
   ],
   "source": [
    "#slicing operation\n",
    "\n",
    "x = torch.rand(5,3)\n",
    "print(x)\n",
    "\n",
    "print(x[:,0]) #get all rows and one column\n",
    "print(x[1,:]) #print only second rows and all columns\n"
   ]
  },
  {
   "cell_type": "code",
   "execution_count": 15,
   "id": "16aa6909",
   "metadata": {},
   "outputs": [
    {
     "name": "stdout",
     "output_type": "stream",
     "text": [
      "tensor(0.3854)\n",
      "tensor(0.3854)\n",
      "0.3854409456253052\n"
     ]
    }
   ],
   "source": [
    "#using .item() function\n",
    "#can only be used if there is only one element present in the tensor\n",
    "\n",
    "print(x[1,1])\n",
    "print(x[1][1])\n",
    "print(x[1,1].item())"
   ]
  },
  {
   "cell_type": "code",
   "execution_count": 16,
   "id": "d34b155b",
   "metadata": {},
   "outputs": [
    {
     "name": "stdout",
     "output_type": "stream",
     "text": [
      "tensor([[0.0475, 0.7178, 0.6123, 0.6944, 0.4010, 0.1343, 0.8571, 0.2022],\n",
      "        [0.4790, 0.1329, 0.6101, 0.0310, 0.3820, 0.4195, 0.8741, 0.8850]])\n",
      "tensor([0.0475, 0.7178, 0.6123, 0.6944, 0.4010, 0.1343, 0.8571, 0.2022, 0.4790,\n",
      "        0.1329, 0.6101, 0.0310, 0.3820, 0.4195, 0.8741, 0.8850])\n"
     ]
    }
   ],
   "source": [
    "#reshaping a tensor\n",
    "x = torch.rand(2,8)\n",
    "print(x)\n",
    "y = x.view(16)\n",
    "print(y)"
   ]
  },
  {
   "cell_type": "code",
   "execution_count": 17,
   "id": "a42ca827",
   "metadata": {},
   "outputs": [
    {
     "name": "stdout",
     "output_type": "stream",
     "text": [
      "tensor([[0.5373, 0.7256, 0.0620, 0.3998],\n",
      "        [0.1673, 0.4472, 0.5377, 0.1149],\n",
      "        [0.1610, 0.2202, 0.5549, 0.3996],\n",
      "        [0.7833, 0.2033, 0.5134, 0.4185]])\n",
      "tensor([[0.5373, 0.7256, 0.0620, 0.3998, 0.1673, 0.4472, 0.5377, 0.1149],\n",
      "        [0.1610, 0.2202, 0.5549, 0.3996, 0.7833, 0.2033, 0.5134, 0.4185]])\n",
      "tensor([[0.5373, 0.7256, 0.0620, 0.3998, 0.1673, 0.4472, 0.5377, 0.1149],\n",
      "        [0.1610, 0.2202, 0.5549, 0.3996, 0.7833, 0.2033, 0.5134, 0.4185]])\n",
      "tensor([[0.5373, 0.7256],\n",
      "        [0.0620, 0.3998],\n",
      "        [0.1673, 0.4472],\n",
      "        [0.5377, 0.1149],\n",
      "        [0.1610, 0.2202],\n",
      "        [0.5549, 0.3996],\n",
      "        [0.7833, 0.2033],\n",
      "        [0.5134, 0.4185]])\n",
      "torch.Size([8, 2])\n"
     ]
    }
   ],
   "source": [
    "x = torch.rand(4,4)\n",
    "print(x)\n",
    "\n",
    "y = x.view(2,8)\n",
    "print(y)\n",
    "\n",
    "#use of -1 in view\n",
    "\n",
    "y = x.view(-1,8)\n",
    "print(y)\n",
    "\n",
    "y = x.view(8,-1)\n",
    "print(y)\n",
    "print(y.size())  #use of size() function"
   ]
  },
  {
   "cell_type": "code",
   "execution_count": 18,
   "id": "03390f4f",
   "metadata": {},
   "outputs": [
    {
     "name": "stdout",
     "output_type": "stream",
     "text": [
      "tensor([1., 1., 1., 1.])\n",
      "[1. 1. 1. 1.]\n",
      "<class 'numpy.ndarray'>\n"
     ]
    }
   ],
   "source": [
    "#torch to numpy array\n",
    "a = torch.ones(4)\n",
    "print(a)\n",
    "b = a.numpy()\n",
    "print(b)\n",
    "print(type(b))"
   ]
  },
  {
   "cell_type": "code",
   "execution_count": 19,
   "id": "7e3e42d8",
   "metadata": {},
   "outputs": [
    {
     "name": "stdout",
     "output_type": "stream",
     "text": [
      "tensor([2., 2., 2., 2.])\n",
      "[2. 2. 2. 2.]\n"
     ]
    }
   ],
   "source": [
    "#changing the tensor also changes the numpy array i.e. both share the same memory - only applicable on CPU\n",
    "a.add_(1)\n",
    "print(a)\n",
    "print(b)\n"
   ]
  },
  {
   "cell_type": "code",
   "execution_count": 20,
   "id": "b2066674",
   "metadata": {},
   "outputs": [
    {
     "name": "stdout",
     "output_type": "stream",
     "text": [
      "tensor([1., 1., 1., 1., 1.], requires_grad=True)\n"
     ]
    }
   ],
   "source": [
    "#Requires Grad - Argument given to instruct that the gradients for the variable might be needed later\n",
    "#by default, requres_grad is False\n",
    "x = torch.ones(5, requires_grad=True)\n",
    "print(x)"
   ]
  },
  {
   "cell_type": "markdown",
   "id": "66453c6c",
   "metadata": {},
   "source": [
    "AUTOGRAD"
   ]
  },
  {
   "cell_type": "markdown",
   "id": "97a19ed1",
   "metadata": {},
   "source": [
    "Autograd: This class is an engine to calculate derivatives (Jacobian-vector product to be more precise). It records a graph of all the operations performed on a gradient enabled tensor and creates an acyclic graph called the dynamic computational graph. The leaves of this graph are input tensors and the roots are output tensors. Gradients are calculated by tracing the graph from the root to the leaf and multiplying every gradient in the way using the chain rule.\n"
   ]
  },
  {
   "cell_type": "markdown",
   "id": "ed572c32",
   "metadata": {},
   "source": [
    "For each backpropagation iteration, several gradients are calculated and something called a computation graph is built for storing these gradient functions. PyTorch does it by building a Dynamic Computational Graph (DCG). This graph is built from scratch in every iteration providing maximum flexibility to gradient calculation. For example, for a forward operation (function)Mul a backward operation (function) called MulBackwardis dynamically integrated in the backward graph for computing the gradient."
   ]
  },
  {
   "cell_type": "markdown",
   "id": "73e797ef",
   "metadata": {},
   "source": [
    "--------------------------------------REFERENCES--------------------------------------------\n",
    "                                                   \n",
    "https://towardsdatascience.com/pytorch-autograd-understanding-the-heart-of-pytorchs-magic-2686cd94ec95\n",
    "                                   \n",
    "https://www.youtube.com/watch?v=hjnVLfvhN0Q&t=1334\n"
   ]
  },
  {
   "cell_type": "code",
   "execution_count": 21,
   "id": "eff4a5b3",
   "metadata": {},
   "outputs": [
    {
     "name": "stdout",
     "output_type": "stream",
     "text": [
      "tensor([0.8152, 0.9284, 0.3738], requires_grad=True)\n",
      "tensor([2.8152, 2.9284, 2.3738], grad_fn=<AddBackward0>)\n",
      "tensor(14.7573, grad_fn=<MeanBackward0>)\n"
     ]
    },
    {
     "data": {
      "text/plain": [
       "tensor([3.7536, 3.9045, 3.1651])"
      ]
     },
     "execution_count": 21,
     "metadata": {},
     "output_type": "execute_result"
    }
   ],
   "source": [
    "x = torch.rand(3, requires_grad=True)\n",
    "print(x)\n",
    "y = x+2\n",
    "print(y)\n",
    "z = y*y*2\n",
    "z = z.mean()\n",
    "print(z)\n",
    "z.backward()\n",
    "x.grad"
   ]
  },
  {
   "cell_type": "code",
   "execution_count": 22,
   "id": "01749841",
   "metadata": {},
   "outputs": [
    {
     "name": "stdout",
     "output_type": "stream",
     "text": [
      "tensor([0.7576, 0.2793, 0.4031], requires_grad=True)\n",
      "tensor([2.7576, 2.2793, 2.4031], grad_fn=<AddBackward0>)\n",
      "tensor(12.3830, grad_fn=<MeanBackward0>)\n"
     ]
    },
    {
     "data": {
      "text/plain": [
       "tensor([3.6768, 3.0391, 3.2041])"
      ]
     },
     "execution_count": 22,
     "metadata": {},
     "output_type": "execute_result"
    }
   ],
   "source": [
    "gen = torch.Generator().manual_seed(1)\n",
    "x = torch.rand(3,generator=gen,requires_grad=True)\n",
    "print(x)\n",
    "y = x+2\n",
    "print(y)\n",
    "z = y*y*2\n",
    "z = z.mean()\n",
    "print(z)\n",
    "z.backward()\n",
    "m = x.grad\n",
    "m "
   ]
  },
  {
   "cell_type": "code",
   "execution_count": 23,
   "id": "c3de0f64",
   "metadata": {},
   "outputs": [
    {
     "name": "stdout",
     "output_type": "stream",
     "text": [
      "tensor([0.7576, 0.2793, 0.4031], requires_grad=True)\n",
      "tensor([2.7576, 2.2793, 2.4031], grad_fn=<AddBackward0>)\n",
      "tensor(37.1491, grad_fn=<SumBackward0>)\n"
     ]
    },
    {
     "data": {
      "text/plain": [
       "tensor([11.0305,  9.1172,  9.6123])"
      ]
     },
     "execution_count": 23,
     "metadata": {},
     "output_type": "execute_result"
    }
   ],
   "source": [
    "gen = torch.Generator().manual_seed(1)\n",
    "x = torch.rand(3,generator=gen,requires_grad=True)\n",
    "print(x)\n",
    "y = x+2\n",
    "print(y)\n",
    "z = y*y*2\n",
    "z = z.sum()\n",
    "print(z)\n",
    "z.backward()\n",
    "n = x.grad\n",
    "n "
   ]
  },
  {
   "cell_type": "code",
   "execution_count": 24,
   "id": "e9ef03f6",
   "metadata": {},
   "outputs": [
    {
     "data": {
      "text/plain": [
       "tensor([3.0000, 3.0000, 3.0000])"
      ]
     },
     "execution_count": 24,
     "metadata": {},
     "output_type": "execute_result"
    }
   ],
   "source": [
    "n/m"
   ]
  },
  {
   "cell_type": "code",
   "execution_count": 25,
   "id": "6d62ab3f",
   "metadata": {},
   "outputs": [
    {
     "name": "stdout",
     "output_type": "stream",
     "text": [
      "tensor([0.7576, 0.2793, 0.4031], requires_grad=True)\n",
      "tensor([2.7576, 2.2793, 2.4031], grad_fn=<AddBackward0>)\n",
      "tensor([15.2091, 10.3905, 11.5495], grad_fn=<MulBackward0>)\n",
      "tensor([11.0305,  9.1172,  9.6123])\n"
     ]
    }
   ],
   "source": [
    "#calculating gradient by manually entering the v vector\n",
    "gen = torch.Generator().manual_seed(1)\n",
    "x = torch.rand(3,requires_grad=True,generator=gen)\n",
    "print(x)\n",
    "y = x+2\n",
    "print(y)\n",
    "z = y*y*2\n",
    "print(z)\n",
    "v = torch.tensor([1.,1.,1.])\n",
    "z.backward(v) #entering the value of v vector to be multiplied by transpose of Jacobian matrix\n",
    "print(x.grad)\n"
   ]
  },
  {
   "cell_type": "code",
   "execution_count": 26,
   "id": "c736aa94",
   "metadata": {},
   "outputs": [
    {
     "name": "stdout",
     "output_type": "stream",
     "text": [
      "tensor([0.7001, 0.6403, 0.3298], requires_grad=True)\n"
     ]
    }
   ],
   "source": [
    "#Prevent variable from tracking gradients\n",
    "x = torch.rand(3,requires_grad=True)\n",
    "print(x)\n",
    "\n",
    "# x.requires_grad_(False)\n",
    "# x.detach()\n",
    "# with torch.no_grad():\n",
    "\n"
   ]
  },
  {
   "cell_type": "code",
   "execution_count": 27,
   "id": "8334c49e",
   "metadata": {},
   "outputs": [
    {
     "name": "stdout",
     "output_type": "stream",
     "text": [
      "tensor([0.7001, 0.6403, 0.3298])\n"
     ]
    }
   ],
   "source": [
    "x.requires_grad_(False)\n",
    "print(x)"
   ]
  },
  {
   "cell_type": "code",
   "execution_count": 28,
   "id": "9908ac73",
   "metadata": {},
   "outputs": [
    {
     "name": "stdout",
     "output_type": "stream",
     "text": [
      "tensor([0.0841, 0.7024, 0.2407], requires_grad=True)\n",
      "tensor([0.0841, 0.7024, 0.2407])\n"
     ]
    }
   ],
   "source": [
    "x = torch.rand(3,requires_grad=True)\n",
    "print(x)\n",
    "y = x.detach()\n",
    "print(y)"
   ]
  },
  {
   "cell_type": "code",
   "execution_count": 29,
   "id": "656c657e",
   "metadata": {},
   "outputs": [
    {
     "name": "stdout",
     "output_type": "stream",
     "text": [
      "tensor([0.4968, 0.2443, 0.4869], requires_grad=True)\n",
      "tensor([2.4968, 2.2443, 2.4869], grad_fn=<AddBackward0>)\n",
      "tensor([2.4968, 2.2443, 2.4869])\n"
     ]
    }
   ],
   "source": [
    "x = torch.rand(3,requires_grad=True)\n",
    "print(x)\n",
    "y = x+2\n",
    "print(y)\n",
    "with torch.no_grad():\n",
    "    y = x+2\n",
    "    print(y)"
   ]
  },
  {
   "cell_type": "code",
   "execution_count": 30,
   "id": "b2a5ef25",
   "metadata": {},
   "outputs": [
    {
     "name": "stdout",
     "output_type": "stream",
     "text": [
      "tensor([1., 1., 1., 1.], requires_grad=True)\n",
      "tensor([3., 3., 3., 3.])\n",
      "tensor([6., 6., 6., 6.])\n",
      "tensor([9., 9., 9., 9.])\n"
     ]
    }
   ],
   "source": [
    "#Gradients are added up in backend\n",
    "#They need to be cleared up using grad.zero_()\n",
    "#An example:\n",
    "\n",
    "x = torch.ones(4,requires_grad=True)\n",
    "print(x)\n",
    "\n",
    "for epoch in range(3):\n",
    "    y = 3*x\n",
    "    y = y.sum()\n",
    "    y.backward()\n",
    "    print(x.grad)\n"
   ]
  },
  {
   "cell_type": "code",
   "execution_count": 31,
   "id": "2964bf18",
   "metadata": {},
   "outputs": [
    {
     "name": "stdout",
     "output_type": "stream",
     "text": [
      "tensor([1., 1., 1., 1.], requires_grad=True)\n",
      "tensor([3., 3., 3., 3.])\n",
      "tensor([3., 3., 3., 3.])\n",
      "tensor([3., 3., 3., 3.])\n"
     ]
    }
   ],
   "source": [
    "x = torch.ones(4,requires_grad=True)\n",
    "print(x)\n",
    "\n",
    "for epoch in range(3):\n",
    "    y = x*3\n",
    "    y = y.sum()\n",
    "    y.backward()\n",
    "    print(x.grad)\n",
    "    x.grad.zero_() #flush gradients\n"
   ]
  },
  {
   "cell_type": "markdown",
   "id": "3e816818",
   "metadata": {},
   "source": [
    "BACKPROPAGATION"
   ]
  },
  {
   "cell_type": "markdown",
   "id": "330b1254",
   "metadata": {},
   "source": [
    "Concepts :\n",
    "1. Chain Rule\n",
    "2. Computational Graph\n",
    "\n",
    "Steps:\n",
    "1. Forward Pass : Compute Loss\n",
    "2. Compute  Local gradients\n",
    "3. Backward Pass: Compute dLoss/dWeights using the chain Rule"
   ]
  },
  {
   "cell_type": "code",
   "execution_count": 32,
   "id": "86c8686b",
   "metadata": {},
   "outputs": [
    {
     "name": "stdout",
     "output_type": "stream",
     "text": [
      "loss tensor(1., grad_fn=<PowBackward0>)\n",
      "tensor(-2.)\n"
     ]
    }
   ],
   "source": [
    "x = torch.tensor(1.)\n",
    "y = torch.tensor(2.)\n",
    "\n",
    "w = torch.tensor(1., requires_grad=True)\n",
    "\n",
    "#Forward pass and calculate the loss\n",
    "y_hat = w*x\n",
    "loss = y_hat-y\n",
    "loss = loss**2\n",
    "\n",
    "print(\"loss\",loss)\n",
    "\n",
    "#backward pass\n",
    "loss.backward()\n",
    "grad = w.grad\n",
    "print(w.grad)"
   ]
  },
  {
   "cell_type": "markdown",
   "id": "b6e5e1c3",
   "metadata": {},
   "source": [
    "GRADIENT DESCENT"
   ]
  },
  {
   "cell_type": "markdown",
   "id": "71531395",
   "metadata": {},
   "source": [
    "1. Using only Numpy"
   ]
  },
  {
   "cell_type": "code",
   "execution_count": 38,
   "id": "01c8e03c",
   "metadata": {},
   "outputs": [
    {
     "name": "stdout",
     "output_type": "stream",
     "text": [
      "Prediction before training : f(5) =0.000\n",
      "epoch 1: w = 1.200, loss =30.00000000\n",
      "epoch 3: w = 1.872, loss =0.76800019\n",
      "epoch 5: w = 1.980, loss =0.01966083\n",
      "epoch 7: w = 1.997, loss =0.00050332\n",
      "epoch 9: w = 1.999, loss =0.00001288\n",
      "epoch 11: w = 2.000, loss =0.00000033\n",
      "epoch 13: w = 2.000, loss =0.00000001\n",
      "epoch 15: w = 2.000, loss =0.00000000\n",
      "epoch 17: w = 2.000, loss =0.00000000\n",
      "epoch 19: w = 2.000, loss =0.00000000\n",
      "Prediction after training : f(5) =10.000\n"
     ]
    }
   ],
   "source": [
    "import numpy as np \n",
    "\n",
    "#f(x) = 2x\n",
    "\n",
    "x = np.array([1.,2.,3.,4.],dtype = np.float32)\n",
    "y = np.array([2.,4.,6.,8.],dtype = np.float32)\n",
    "\n",
    "w = 0.0\n",
    "\n",
    "#model prediction\n",
    "def forward(x):\n",
    "    return w*x\n",
    "\n",
    "#loss = MSE\n",
    "def loss(y, y_pred):\n",
    "    return ((y_pred-y)**2).mean()\n",
    "\n",
    "#gradient \n",
    "#MSE = 1/N * (w*x - y)**2\n",
    "#dL/dw = 1/N 2x (w*x - y)\n",
    "def gradient(x,y,y_pred):\n",
    "    return np.dot(2*x,y_pred-y).mean()\n",
    "\n",
    "print(f'Prediction before training : f(5) ={forward(5):.3f}')\n",
    "\n",
    "#Training\n",
    "learning_rate = 0.01\n",
    "n_iters = 20\n",
    "\n",
    "for epoch in range(n_iters):\n",
    "    y_pred = forward(x)\n",
    "    l = loss(y,y_pred)\n",
    "    dw = gradient(x,y,y_pred)\n",
    "\n",
    "    #update weights\n",
    "    w-=learning_rate*dw\n",
    "    if epoch%2 ==0:\n",
    "        print(f'epoch {epoch+1}: w = {w:.3f}, loss ={l:.8f}')\n",
    "\n",
    "print(f'Prediction after training : f(5) ={forward(5):.3f}')\n",
    "\n"
   ]
  },
  {
   "cell_type": "markdown",
   "id": "56a5e76f",
   "metadata": {},
   "source": [
    "2. Doing the same computations using pytorch"
   ]
  },
  {
   "cell_type": "code",
   "execution_count": 43,
   "id": "782dbb99",
   "metadata": {},
   "outputs": [
    {
     "name": "stdout",
     "output_type": "stream",
     "text": [
      "Prediction before training : f(5) =0.000\n",
      "epoch 1: w = 0.300, loss =30.00000000\n",
      "epoch 11: w = 1.665, loss =1.16278565\n",
      "epoch 21: w = 1.934, loss =0.04506890\n",
      "epoch 31: w = 1.987, loss =0.00174685\n",
      "epoch 41: w = 1.997, loss =0.00006770\n",
      "epoch 51: w = 1.999, loss =0.00000262\n",
      "epoch 61: w = 2.000, loss =0.00000010\n",
      "epoch 71: w = 2.000, loss =0.00000000\n",
      "epoch 81: w = 2.000, loss =0.00000000\n",
      "epoch 91: w = 2.000, loss =0.00000000\n",
      "Prediction after training : f(5) =10.000\n"
     ]
    }
   ],
   "source": [
    "#f(x) = 2x\n",
    "\n",
    "x = torch.tensor([1.,2.,3.,4.],dtype = torch.float32)\n",
    "y = torch.tensor([2.,4.,6.,8.],dtype = torch.float32)\n",
    "\n",
    "w = torch.tensor(0.0,requires_grad=True)\n",
    "\n",
    "#model prediction\n",
    "def forward(x):\n",
    "    return w*x\n",
    "\n",
    "#loss = MSE\n",
    "def loss(y, y_pred):\n",
    "    return ((y_pred-y)**2).mean()\n",
    "\n",
    "\n",
    "print(f'Prediction before training : f(5) ={forward(5):.3f}')\n",
    "\n",
    "#Training\n",
    "learning_rate = 0.01\n",
    "n_iters = 100\n",
    "\n",
    "for epoch in range(n_iters):\n",
    "    y_pred = forward(x)\n",
    "    l = loss(y,y_pred)\n",
    "    #gradients = backward pass\n",
    "    l.backward()\n",
    "\n",
    "    #update weights\n",
    "    with torch.no_grad():\n",
    "        w-=learning_rate*w.grad\n",
    "    \n",
    "    #empty/flush gradients\n",
    "    w.grad.zero_()\n",
    "\n",
    "    if epoch%10 ==0:\n",
    "        print(f'epoch {epoch+1}: w = {w:.3f}, loss ={l:.8f}')\n",
    "\n",
    "print(f'Prediction after training : f(5) ={forward(5):.3f}')\n"
   ]
  },
  {
   "cell_type": "code",
   "execution_count": null,
   "id": "366bcd76",
   "metadata": {},
   "outputs": [],
   "source": []
  }
 ],
 "metadata": {
  "interpreter": {
   "hash": "0f64c202fdc8031f9c0ea70d5eaf446c1532c884947e752d3784ee6a247777c2"
  },
  "kernelspec": {
   "display_name": "Python [conda env:tensorflow] *",
   "language": "python",
   "name": "python3"
  },
  "language_info": {
   "codemirror_mode": {
    "name": "ipython",
    "version": 3
   },
   "file_extension": ".py",
   "mimetype": "text/x-python",
   "name": "python",
   "nbconvert_exporter": "python",
   "pygments_lexer": "ipython3",
   "version": "3.9.9"
  }
 },
 "nbformat": 4,
 "nbformat_minor": 5
}
