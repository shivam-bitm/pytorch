{
 "cells": [
  {
   "cell_type": "code",
   "execution_count": 1,
   "id": "6eb0a153-d2ad-430c-a1af-45c43bd27d08",
   "metadata": {},
   "outputs": [],
   "source": [
    "import torch\n",
    "import numpy as np"
   ]
  },
  {
   "cell_type": "markdown",
   "id": "2e45e8dd-c5e2-4102-bbca-10f692854f83",
   "metadata": {},
   "source": [
    "TENSOR BASICS"
   ]
  },
  {
   "cell_type": "code",
   "execution_count": 2,
   "id": "38ab34f2-0d22-4e7d-80e9-144d8726fa06",
   "metadata": {},
   "outputs": [
    {
     "data": {
      "text/plain": [
       "tensor([[[5.6165e-36, 1.4013e-45, 4.6271e-36],\n",
       "         [1.4013e-45, 0.0000e+00, 0.0000e+00]],\n",
       "\n",
       "        [[0.0000e+00, 0.0000e+00, 0.0000e+00],\n",
       "         [0.0000e+00, 0.0000e+00, 0.0000e+00]]])"
      ]
     },
     "execution_count": 2,
     "metadata": {},
     "output_type": "execute_result"
    }
   ],
   "source": [
    "#create empty tensor\n",
    "x = torch.empty(2,2,3)\n",
    "x"
   ]
  },
  {
   "cell_type": "code",
   "execution_count": 3,
   "id": "7455414b-48a7-4e4a-9074-b0866fb72c37",
   "metadata": {},
   "outputs": [
    {
     "data": {
      "text/plain": [
       "tensor([[0.4387, 0.4977],\n",
       "        [0.9680, 0.7840]])"
      ]
     },
     "execution_count": 3,
     "metadata": {},
     "output_type": "execute_result"
    }
   ],
   "source": [
    "#create tensor with random values\n",
    "x = torch.rand(2,2)\n",
    "x"
   ]
  },
  {
   "cell_type": "code",
   "execution_count": 4,
   "id": "ca86315b-16da-4f78-86d7-9637c4a15e9b",
   "metadata": {},
   "outputs": [
    {
     "data": {
      "text/plain": [
       "tensor([[0., 0., 0.],\n",
       "        [0., 0., 0.]])"
      ]
     },
     "execution_count": 4,
     "metadata": {},
     "output_type": "execute_result"
    }
   ],
   "source": [
    "#create tensor with zeros\n",
    "x = torch.zeros(2,3)\n",
    "x"
   ]
  },
  {
   "cell_type": "code",
   "execution_count": 5,
   "id": "95c5c34c-dd1b-4d52-a490-34ba4be0520c",
   "metadata": {},
   "outputs": [
    {
     "name": "stdout",
     "output_type": "stream",
     "text": [
      "torch.float32\n",
      "torch.float16\n"
     ]
    }
   ],
   "source": [
    "#change dtype\n",
    "print(x.dtype)\n",
    "x = torch.ones(2,2,dtype = torch.float16)\n",
    "print(x.dtype)"
   ]
  },
  {
   "cell_type": "code",
   "execution_count": 6,
   "id": "ae880c91-124e-42d4-b8f5-6db4efcad6f7",
   "metadata": {},
   "outputs": [
    {
     "data": {
      "text/plain": [
       "tensor([[1, 2],\n",
       "        [3, 4]], dtype=torch.int32)"
      ]
     },
     "execution_count": 6,
     "metadata": {},
     "output_type": "execute_result"
    }
   ],
   "source": [
    "#tensor from list\n",
    "x = torch.tensor([[1,2],[3,4]],dtype = torch.int32)\n",
    "x"
   ]
  },
  {
   "cell_type": "markdown",
   "id": "ea5277d6-e8d3-4ed0-9c3b-ed5e150e6f6f",
   "metadata": {},
   "source": [
    "BASIC OPERATIONS"
   ]
  },
  {
   "cell_type": "code",
   "execution_count": 7,
   "id": "f704ae18-a289-4e06-a043-46d8a4bb466c",
   "metadata": {},
   "outputs": [
    {
     "name": "stdout",
     "output_type": "stream",
     "text": [
      "tensor([[0.2019, 0.2153],\n",
      "        [0.2784, 0.5035]])\n",
      "tensor([[0.7150, 0.3092],\n",
      "        [0.7707, 0.5096]])\n"
     ]
    }
   ],
   "source": [
    "x = torch.rand(2,2)\n",
    "y = torch.rand(2,2)\n",
    "print(x)\n",
    "print(y)\n"
   ]
  },
  {
   "cell_type": "code",
   "execution_count": 8,
   "id": "16145368",
   "metadata": {},
   "outputs": [
    {
     "data": {
      "text/plain": [
       "tensor([[0.9168, 0.5245],\n",
       "        [1.0491, 1.0130]])"
      ]
     },
     "execution_count": 8,
     "metadata": {},
     "output_type": "execute_result"
    }
   ],
   "source": [
    "#addition\n",
    "z = x+y\n",
    "z"
   ]
  },
  {
   "cell_type": "code",
   "execution_count": 9,
   "id": "ae26e828",
   "metadata": {},
   "outputs": [
    {
     "data": {
      "text/plain": [
       "tensor([[0.9168, 0.5245],\n",
       "        [1.0491, 1.0130]])"
      ]
     },
     "execution_count": 9,
     "metadata": {},
     "output_type": "execute_result"
    }
   ],
   "source": [
    "#addition\n",
    "z = torch.add(x,y)\n",
    "z"
   ]
  },
  {
   "cell_type": "code",
   "execution_count": 10,
   "id": "f1f9fd8a",
   "metadata": {},
   "outputs": [
    {
     "data": {
      "text/plain": [
       "tensor([[0.9168, 0.5245],\n",
       "        [1.0491, 1.0130]])"
      ]
     },
     "execution_count": 10,
     "metadata": {},
     "output_type": "execute_result"
    }
   ],
   "source": [
    "#inplace addition\n",
    "y.add_(x)   #any operation with a trailing _ to it will perform an inplace operation \n",
    "y"
   ]
  },
  {
   "cell_type": "code",
   "execution_count": 11,
   "id": "a507e40a",
   "metadata": {},
   "outputs": [
    {
     "name": "stdout",
     "output_type": "stream",
     "text": [
      "tensor([[0.2019, 0.2153],\n",
      "        [0.2784, 0.5035]])\n",
      "tensor([[0.9168, 0.5245],\n",
      "        [1.0491, 1.0130]])\n"
     ]
    }
   ],
   "source": [
    "print(x)\n",
    "print(y)"
   ]
  },
  {
   "cell_type": "code",
   "execution_count": 12,
   "id": "68ec0c48",
   "metadata": {},
   "outputs": [
    {
     "data": {
      "text/plain": [
       "tensor([[0.1851, 0.1129],\n",
       "        [0.2921, 0.5100]])"
      ]
     },
     "execution_count": 12,
     "metadata": {},
     "output_type": "execute_result"
    }
   ],
   "source": [
    "#elementwise multiplication\n",
    "# z = x*y     #option 1\n",
    "z = torch.mul(x,y)    #option 2\n",
    "# y.mul_(x)      #option 3\n",
    "z"
   ]
  },
  {
   "cell_type": "code",
   "execution_count": 13,
   "id": "fd3796ae",
   "metadata": {},
   "outputs": [
    {
     "data": {
      "text/plain": [
       "tensor([[0.2202, 0.4104],\n",
       "        [0.2653, 0.4970]])"
      ]
     },
     "execution_count": 13,
     "metadata": {},
     "output_type": "execute_result"
    }
   ],
   "source": [
    "#elementwise division\n",
    "# z = x/y \n",
    "z = torch.div(x,y)\n",
    "# x.div_(y)\n",
    "z"
   ]
  },
  {
   "cell_type": "code",
   "execution_count": 14,
   "id": "eff0cc02",
   "metadata": {},
   "outputs": [
    {
     "name": "stdout",
     "output_type": "stream",
     "text": [
      "tensor([[0.9868, 0.5148, 0.4322],\n",
      "        [0.8470, 0.7862, 0.1733],\n",
      "        [0.4390, 0.4127, 0.5117],\n",
      "        [0.5544, 0.5588, 0.6165],\n",
      "        [0.6842, 0.4643, 0.5697]])\n",
      "tensor([0.9868, 0.8470, 0.4390, 0.5544, 0.6842])\n",
      "tensor([0.8470, 0.7862, 0.1733])\n"
     ]
    }
   ],
   "source": [
    "#slicing operation\n",
    "\n",
    "x = torch.rand(5,3)\n",
    "print(x)\n",
    "\n",
    "print(x[:,0]) #get all rows and one column\n",
    "print(x[1,:]) #print only second rows and all columns\n"
   ]
  },
  {
   "cell_type": "code",
   "execution_count": 15,
   "id": "16aa6909",
   "metadata": {},
   "outputs": [
    {
     "name": "stdout",
     "output_type": "stream",
     "text": [
      "tensor(0.7862)\n",
      "tensor(0.7862)\n",
      "0.7861897945404053\n"
     ]
    }
   ],
   "source": [
    "#using .item() function\n",
    "#can only be used if there is only one element present in the tensor\n",
    "\n",
    "print(x[1,1])\n",
    "print(x[1][1])\n",
    "print(x[1,1].item())"
   ]
  },
  {
   "cell_type": "code",
   "execution_count": 17,
   "id": "d34b155b",
   "metadata": {},
   "outputs": [
    {
     "name": "stdout",
     "output_type": "stream",
     "text": [
      "tensor([[0.2701, 0.8896, 0.4624, 0.4554, 0.5906, 0.6656, 0.8782, 0.3793],\n",
      "        [0.5236, 0.5190, 0.6098, 0.0125, 0.8534, 0.3534, 0.5347, 0.5391]])\n",
      "tensor([0.2701, 0.8896, 0.4624, 0.4554, 0.5906, 0.6656, 0.8782, 0.3793, 0.5236,\n",
      "        0.5190, 0.6098, 0.0125, 0.8534, 0.3534, 0.5347, 0.5391])\n"
     ]
    }
   ],
   "source": [
    "#reshaping a tensor\n",
    "x = torch.rand(2,8)\n",
    "print(x)\n",
    "y = x.view(16)\n",
    "print(y)"
   ]
  },
  {
   "cell_type": "code",
   "execution_count": 18,
   "id": "a42ca827",
   "metadata": {},
   "outputs": [
    {
     "name": "stdout",
     "output_type": "stream",
     "text": [
      "tensor([[3.6172e-02, 3.5374e-01, 4.7535e-04, 7.9182e-02],\n",
      "        [2.2118e-01, 4.8868e-01, 9.9496e-02, 7.9454e-01],\n",
      "        [4.7668e-01, 4.2740e-01, 2.0374e-02, 6.4046e-01],\n",
      "        [6.9062e-01, 7.8397e-01, 6.7725e-01, 2.3400e-01]])\n",
      "tensor([[3.6172e-02, 3.5374e-01, 4.7535e-04, 7.9182e-02, 2.2118e-01, 4.8868e-01,\n",
      "         9.9496e-02, 7.9454e-01],\n",
      "        [4.7668e-01, 4.2740e-01, 2.0374e-02, 6.4046e-01, 6.9062e-01, 7.8397e-01,\n",
      "         6.7725e-01, 2.3400e-01]])\n",
      "tensor([[3.6172e-02, 3.5374e-01, 4.7535e-04, 7.9182e-02, 2.2118e-01, 4.8868e-01,\n",
      "         9.9496e-02, 7.9454e-01],\n",
      "        [4.7668e-01, 4.2740e-01, 2.0374e-02, 6.4046e-01, 6.9062e-01, 7.8397e-01,\n",
      "         6.7725e-01, 2.3400e-01]])\n",
      "tensor([[3.6172e-02, 3.5374e-01],\n",
      "        [4.7535e-04, 7.9182e-02],\n",
      "        [2.2118e-01, 4.8868e-01],\n",
      "        [9.9496e-02, 7.9454e-01],\n",
      "        [4.7668e-01, 4.2740e-01],\n",
      "        [2.0374e-02, 6.4046e-01],\n",
      "        [6.9062e-01, 7.8397e-01],\n",
      "        [6.7725e-01, 2.3400e-01]])\n",
      "torch.Size([8, 2])\n"
     ]
    }
   ],
   "source": [
    "x = torch.rand(4,4)\n",
    "print(x)\n",
    "\n",
    "y = x.view(2,8)\n",
    "print(y)\n",
    "\n",
    "#use of -1 in view\n",
    "\n",
    "y = x.view(-1,8)\n",
    "print(y)\n",
    "\n",
    "y = x.view(8,-1)\n",
    "print(y)\n",
    "print(y.size())  #use of size() function"
   ]
  },
  {
   "cell_type": "code",
   "execution_count": 19,
   "id": "03390f4f",
   "metadata": {},
   "outputs": [
    {
     "name": "stdout",
     "output_type": "stream",
     "text": [
      "tensor([1., 1., 1., 1.])\n",
      "[1. 1. 1. 1.]\n",
      "<class 'numpy.ndarray'>\n"
     ]
    }
   ],
   "source": [
    "#torch to numpy array\n",
    "a = torch.ones(4)\n",
    "print(a)\n",
    "b = a.numpy()\n",
    "print(b)\n",
    "print(type(b))"
   ]
  },
  {
   "cell_type": "code",
   "execution_count": 20,
   "id": "7e3e42d8",
   "metadata": {},
   "outputs": [
    {
     "name": "stdout",
     "output_type": "stream",
     "text": [
      "tensor([2., 2., 2., 2.])\n",
      "[2. 2. 2. 2.]\n"
     ]
    }
   ],
   "source": [
    "#changing the tensor also changes the numpy array i.e. both share the same memory - only applicable on CPU\n",
    "a.add_(1)\n",
    "print(a)\n",
    "print(b)\n"
   ]
  },
  {
   "cell_type": "code",
   "execution_count": 21,
   "id": "b2066674",
   "metadata": {},
   "outputs": [
    {
     "name": "stdout",
     "output_type": "stream",
     "text": [
      "tensor([1., 1., 1., 1., 1.], requires_grad=True)\n"
     ]
    }
   ],
   "source": [
    "#Requires Grad - Argument given to instruct that the gradients for the variable might be needed later\n",
    "#by default, requres_grad is False\n",
    "x = torch.ones(5, requires_grad=True)\n",
    "print(x)"
   ]
  },
  {
   "cell_type": "markdown",
   "id": "66453c6c",
   "metadata": {},
   "source": [
    "AUTOGRAD"
   ]
  },
  {
   "cell_type": "markdown",
   "id": "97a19ed1",
   "metadata": {},
   "source": [
    "Autograd: This class is an engine to calculate derivatives (Jacobian-vector product to be more precise). It records a graph of all the operations performed on a gradient enabled tensor and creates an acyclic graph called the dynamic computational graph. The leaves of this graph are input tensors and the roots are output tensors. Gradients are calculated by tracing the graph from the root to the leaf and multiplying every gradient in the way using the chain rule.\n"
   ]
  },
  {
   "cell_type": "markdown",
   "id": "ed572c32",
   "metadata": {},
   "source": [
    "For each backpropagation iteration, several gradients are calculated and something called a computation graph is built for storing these gradient functions. PyTorch does it by building a Dynamic Computational Graph (DCG). This graph is built from scratch in every iteration providing maximum flexibility to gradient calculation. For example, for a forward operation (function)Mul a backward operation (function) called MulBackwardis dynamically integrated in the backward graph for computing the gradient."
   ]
  },
  {
   "cell_type": "markdown",
   "id": "73e797ef",
   "metadata": {},
   "source": [
    "--------------------------------------REFERENCES--------------------------------------------\n",
    "                                                   \n",
    "https://towardsdatascience.com/pytorch-autograd-understanding-the-heart-of-pytorchs-magic-2686cd94ec95\n",
    "                                   \n",
    "https://www.youtube.com/watch?v=hjnVLfvhN0Q&t=1334\n"
   ]
  },
  {
   "cell_type": "code",
   "execution_count": 25,
   "id": "eff4a5b3",
   "metadata": {},
   "outputs": [
    {
     "name": "stdout",
     "output_type": "stream",
     "text": [
      "tensor([0.1363, 0.0730, 0.7197], requires_grad=True)\n",
      "tensor([2.1363, 2.0730, 2.7197], grad_fn=<AddBackward0>)\n",
      "tensor(10.8386, grad_fn=<MeanBackward0>)\n"
     ]
    },
    {
     "data": {
      "text/plain": [
       "tensor([2.8484, 2.7640, 3.6263])"
      ]
     },
     "execution_count": 25,
     "metadata": {},
     "output_type": "execute_result"
    }
   ],
   "source": [
    "x = torch.rand(3, requires_grad=True)\n",
    "print(x)\n",
    "y = x+2\n",
    "print(y)\n",
    "z = y*y*2\n",
    "z = z.mean()\n",
    "print(z)\n",
    "z.backward()\n",
    "x.grad"
   ]
  },
  {
   "cell_type": "code",
   "execution_count": 32,
   "id": "01749841",
   "metadata": {},
   "outputs": [
    {
     "name": "stdout",
     "output_type": "stream",
     "text": [
      "tensor([0.7576, 0.2793, 0.4031], requires_grad=True)\n",
      "tensor([2.7576, 2.2793, 2.4031], grad_fn=<AddBackward0>)\n",
      "tensor(12.3830, grad_fn=<MeanBackward0>)\n"
     ]
    },
    {
     "data": {
      "text/plain": [
       "tensor([3.6768, 3.0391, 3.2041])"
      ]
     },
     "execution_count": 32,
     "metadata": {},
     "output_type": "execute_result"
    }
   ],
   "source": [
    "gen = torch.Generator().manual_seed(1)\n",
    "x = torch.rand(3,generator=gen,requires_grad=True)\n",
    "print(x)\n",
    "y = x+2\n",
    "print(y)\n",
    "z = y*y*2\n",
    "z = z.mean()\n",
    "print(z)\n",
    "z.backward()\n",
    "m = x.grad\n",
    "m "
   ]
  },
  {
   "cell_type": "code",
   "execution_count": 33,
   "id": "c3de0f64",
   "metadata": {},
   "outputs": [
    {
     "name": "stdout",
     "output_type": "stream",
     "text": [
      "tensor([0.7576, 0.2793, 0.4031], requires_grad=True)\n",
      "tensor([2.7576, 2.2793, 2.4031], grad_fn=<AddBackward0>)\n",
      "tensor(37.1491, grad_fn=<SumBackward0>)\n"
     ]
    },
    {
     "data": {
      "text/plain": [
       "tensor([11.0305,  9.1172,  9.6123])"
      ]
     },
     "execution_count": 33,
     "metadata": {},
     "output_type": "execute_result"
    }
   ],
   "source": [
    "gen = torch.Generator().manual_seed(1)\n",
    "x = torch.rand(3,generator=gen,requires_grad=True)\n",
    "print(x)\n",
    "y = x+2\n",
    "print(y)\n",
    "z = y*y*2\n",
    "z = z.sum()\n",
    "print(z)\n",
    "z.backward()\n",
    "n = x.grad\n",
    "n "
   ]
  },
  {
   "cell_type": "code",
   "execution_count": 34,
   "id": "e9ef03f6",
   "metadata": {},
   "outputs": [
    {
     "data": {
      "text/plain": [
       "tensor([3.0000, 3.0000, 3.0000])"
      ]
     },
     "execution_count": 34,
     "metadata": {},
     "output_type": "execute_result"
    }
   ],
   "source": [
    "n/m"
   ]
  },
  {
   "cell_type": "code",
   "execution_count": 35,
   "id": "6d62ab3f",
   "metadata": {},
   "outputs": [
    {
     "name": "stdout",
     "output_type": "stream",
     "text": [
      "tensor([0.7576, 0.2793, 0.4031], requires_grad=True)\n",
      "tensor([2.7576, 2.2793, 2.4031], grad_fn=<AddBackward0>)\n",
      "tensor([15.2091, 10.3905, 11.5495], grad_fn=<MulBackward0>)\n",
      "tensor([11.0305,  9.1172,  9.6123])\n"
     ]
    }
   ],
   "source": [
    "#calculating gradient by manually entering the v vector\n",
    "gen = torch.Generator().manual_seed(1)\n",
    "x = torch.rand(3,requires_grad=True,generator=gen)\n",
    "print(x)\n",
    "y = x+2\n",
    "print(y)\n",
    "z = y*y*2\n",
    "print(z)\n",
    "v = torch.tensor([1.,1.,1.])\n",
    "z.backward(v) #entering the value of v vector to be multiplied by transpose of Jacobian matrix\n",
    "print(x.grad)\n"
   ]
  },
  {
   "cell_type": "code",
   "execution_count": 36,
   "id": "c736aa94",
   "metadata": {},
   "outputs": [
    {
     "name": "stdout",
     "output_type": "stream",
     "text": [
      "tensor([0.0084, 0.3482, 0.1844], requires_grad=True)\n"
     ]
    }
   ],
   "source": [
    "#Prevent variable from tracking gradients\n",
    "x = torch.rand(3,requires_grad=True)\n",
    "print(x)\n",
    "\n",
    "# x.requires_grad_(False)\n",
    "# x.detach()\n",
    "# with torch.no_grad():\n",
    "\n"
   ]
  },
  {
   "cell_type": "code",
   "execution_count": 37,
   "id": "8334c49e",
   "metadata": {},
   "outputs": [
    {
     "name": "stdout",
     "output_type": "stream",
     "text": [
      "tensor([0.0084, 0.3482, 0.1844])\n"
     ]
    }
   ],
   "source": [
    "x.requires_grad_(False)\n",
    "print(x)"
   ]
  },
  {
   "cell_type": "code",
   "execution_count": 38,
   "id": "9908ac73",
   "metadata": {},
   "outputs": [
    {
     "name": "stdout",
     "output_type": "stream",
     "text": [
      "tensor([0.4681, 0.3365, 0.9736], requires_grad=True)\n",
      "tensor([0.4681, 0.3365, 0.9736])\n"
     ]
    }
   ],
   "source": [
    "x = torch.rand(3,requires_grad=True)\n",
    "print(x)\n",
    "y = x.detach()\n",
    "print(y)"
   ]
  },
  {
   "cell_type": "code",
   "execution_count": 39,
   "id": "656c657e",
   "metadata": {},
   "outputs": [
    {
     "name": "stdout",
     "output_type": "stream",
     "text": [
      "tensor([0.6457, 0.4528, 0.9915], requires_grad=True)\n",
      "tensor([2.6457, 2.4528, 2.9915], grad_fn=<AddBackward0>)\n",
      "tensor([2.6457, 2.4528, 2.9915])\n"
     ]
    }
   ],
   "source": [
    "x = torch.rand(3,requires_grad=True)\n",
    "print(x)\n",
    "y = x+2\n",
    "print(y)\n",
    "with torch.no_grad():\n",
    "    y = x+2\n",
    "    print(y)"
   ]
  },
  {
   "cell_type": "code",
   "execution_count": 40,
   "id": "b2a5ef25",
   "metadata": {},
   "outputs": [
    {
     "name": "stdout",
     "output_type": "stream",
     "text": [
      "tensor([1., 1., 1., 1.], requires_grad=True)\n",
      "tensor([3., 3., 3., 3.])\n",
      "tensor([6., 6., 6., 6.])\n",
      "tensor([9., 9., 9., 9.])\n"
     ]
    }
   ],
   "source": [
    "#Gradients are added up in backend\n",
    "#They need to be cleared up using grad.zero_()\n",
    "#An example:\n",
    "\n",
    "x = torch.ones(4,requires_grad=True)\n",
    "print(x)\n",
    "\n",
    "for epoch in range(3):\n",
    "    y = 3*x\n",
    "    y = y.sum()\n",
    "    y.backward()\n",
    "    print(x.grad)\n"
   ]
  },
  {
   "cell_type": "code",
   "execution_count": 41,
   "id": "2964bf18",
   "metadata": {},
   "outputs": [
    {
     "name": "stdout",
     "output_type": "stream",
     "text": [
      "tensor([1., 1., 1., 1.], requires_grad=True)\n",
      "tensor([3., 3., 3., 3.])\n",
      "tensor([3., 3., 3., 3.])\n",
      "tensor([3., 3., 3., 3.])\n"
     ]
    }
   ],
   "source": [
    "x = torch.ones(4,requires_grad=True)\n",
    "print(x)\n",
    "\n",
    "for epoch in range(3):\n",
    "    y = x*3\n",
    "    y = y.sum()\n",
    "    y.backward()\n",
    "    print(x.grad)\n",
    "    x.grad.zero_() #flush gradients\n"
   ]
  },
  {
   "cell_type": "markdown",
   "id": "3e816818",
   "metadata": {},
   "source": [
    "BACKPROPAGATION"
   ]
  },
  {
   "cell_type": "markdown",
   "id": "330b1254",
   "metadata": {},
   "source": []
  }
 ],
 "metadata": {
  "interpreter": {
   "hash": "0f64c202fdc8031f9c0ea70d5eaf446c1532c884947e752d3784ee6a247777c2"
  },
  "kernelspec": {
   "display_name": "Python [conda env:tensorflow] *",
   "language": "python",
   "name": "python3"
  },
  "language_info": {
   "codemirror_mode": {
    "name": "ipython",
    "version": 3
   },
   "file_extension": ".py",
   "mimetype": "text/x-python",
   "name": "python",
   "nbconvert_exporter": "python",
   "pygments_lexer": "ipython3",
   "version": "3.9.9"
  }
 },
 "nbformat": 4,
 "nbformat_minor": 5
}
