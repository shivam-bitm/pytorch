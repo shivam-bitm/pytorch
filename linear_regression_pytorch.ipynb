{
 "cells": [
  {
   "cell_type": "code",
   "execution_count": 14,
   "metadata": {},
   "outputs": [],
   "source": [
    "import torch\n",
    "import torch.nn as nn\n",
    "import numpy as np\n",
    "from sklearn import datasets \n",
    "import matplotlib.pyplot as plt\n"
   ]
  },
  {
   "cell_type": "markdown",
   "metadata": {},
   "source": [
    "0. Prepare data\n",
    "1. Model \n",
    "2. Loss and optimizer \n",
    "3. Training Loop \n"
   ]
  },
  {
   "cell_type": "code",
   "execution_count": 15,
   "metadata": {},
   "outputs": [],
   "source": [
    "# 0. Prepare Data\n",
    "x,y = datasets.make_regression(n_samples=100,n_features=1,noise = 20, random_state=1)\n",
    "\n",
    "x = torch.from_numpy(x.astype(np.float32))\n",
    "y = torch.from_numpy(y.astype(np.float32)).view(-1,1)\n",
    "\n",
    "n_samples, n_features = x.shape\n"
   ]
  },
  {
   "cell_type": "code",
   "execution_count": 16,
   "metadata": {},
   "outputs": [],
   "source": [
    "# 1. Model\n",
    "input_size = n_features\n",
    "output_size = 1\n",
    "model = nn.Linear(input_size,output_size)\n"
   ]
  },
  {
   "cell_type": "code",
   "execution_count": 17,
   "metadata": {},
   "outputs": [],
   "source": [
    "# 2. loss and optimizer\n",
    "criterion = nn.MSELoss()\n",
    "learning_rate = 0.01\n",
    "optimizer = torch.optim.SGD(model.parameters(),lr = learning_rate)"
   ]
  },
  {
   "cell_type": "code",
   "execution_count": 18,
   "metadata": {},
   "outputs": [
    {
     "name": "stdout",
     "output_type": "stream",
     "text": [
      "epoch : 10, loss = 4320.20703125\n",
      "epoch : 20, loss = 3226.82519531\n",
      "epoch : 30, loss = 2434.98950195\n",
      "epoch : 40, loss = 1860.96191406\n",
      "epoch : 50, loss = 1444.44580078\n",
      "epoch : 60, loss = 1141.96203613\n",
      "epoch : 70, loss = 922.11853027\n",
      "epoch : 80, loss = 762.22143555\n",
      "epoch : 90, loss = 645.84729004\n",
      "epoch : 100, loss = 561.09759521\n"
     ]
    }
   ],
   "source": [
    "# 3. Training Loop\n",
    "n_epoch = 100\n",
    "for epochs in range(n_epoch):\n",
    "    #forward pass and loss\n",
    "    y_predicted = model(x)\n",
    "    loss = criterion(y,y_predicted)\n",
    "    \n",
    "    #backward pass\n",
    "    loss.backward()\n",
    "\n",
    "    #update\n",
    "    optimizer.step()\n",
    "\n",
    "    #empty gradients\n",
    "    optimizer.zero_grad()\n",
    "\n",
    "    if (epochs+1) % 10 == 0:\n",
    "        print(f'epoch : {epochs+1}, loss = {loss.item():.8f}')\n"
   ]
  },
  {
   "cell_type": "code",
   "execution_count": 19,
   "metadata": {},
   "outputs": [
    {
     "data": {
      "image/png": "[encoded data removed]",
      "text/plain": [
       "<Figure size 432x288 with 1 Axes>"
      ]
     },
     "metadata": {
      "needs_background": "light"
     },
     "output_type": "display_data"
    }
   ],
   "source": [
    "#plot\n",
    "%matplotlib inline\n",
    "predicted = model(x).detach().numpy() #do not want this to be a part of our computational graph, also convert to numpy for plotting\n",
    "x_numpy = x.numpy()\n",
    "y_numpy = y.numpy()\n",
    "\n",
    "plt.plot(x_numpy, y_numpy, 'ro')\n",
    "plt.plot(x_numpy,predicted,'b')\n",
    "plt.show()"
   ]
  },
  {
   "cell_type": "code",
   "execution_count": null,
   "metadata": {},
   "outputs": [],
   "source": []
  }
 ],
 "metadata": {
  "interpreter": {
   "hash": "0f64c202fdc8031f9c0ea70d5eaf446c1532c884947e752d3784ee6a247777c2"
  },
  "kernelspec": {
   "display_name": "Python 3.9.9 ('tensorflow')",
   "language": "python",
   "name": "python3"
  },
  "language_info": {
   "codemirror_mode": {
    "name": "ipython",
    "version": 3
   },
   "file_extension": ".py",
   "mimetype": "text/x-python",
   "name": "python",
   "nbconvert_exporter": "python",
   "pygments_lexer": "ipython3",
   "version": "3.9.9"
  },
  "orig_nbformat": 4
 },
 "nbformat": 4,
 "nbformat_minor": 2
}
